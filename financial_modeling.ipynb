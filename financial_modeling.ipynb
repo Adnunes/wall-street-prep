{
 "cells": [
  {
   "cell_type": "code",
   "execution_count": 2,
   "metadata": {},
   "outputs": [],
   "source": [
    "import pandas as pd\n",
    "from datetime import date\n",
    "from schema import Schema, And, Use"
   ]
  },
  {
   "cell_type": "markdown",
   "metadata": {},
   "source": [
    "# Imputing Historical Financial Data "
   ]
  },
  {
   "cell_type": "code",
   "execution_count": 3,
   "metadata": {},
   "outputs": [],
   "source": [
    "company_data = {\n",
    "    'company_name':'Apple',\n",
    "    'ticker':'APPL',\n",
    "    'circuit_break(1=off,0=on)':1,\n",
    "    'latest_closing_share_price':171.25,\n",
    "    'latest_closing_share_price_date': date(2019,4,2),\n",
    "    'latest_fiscal_year_end_date':date(2018,9,29),\n",
    "    'shares_outstanding(\"millions\")':4745398,\n",
    "    'select_and_operating_scenario':'Base case'\n",
    "                }"
   ]
  },
  {
   "cell_type": "code",
   "execution_count": 4,
   "metadata": {},
   "outputs": [],
   "source": [
    "\n",
    "first_fiscal_year = 2016\n",
    "last_fiscal_year = 2018\n",
    "\n",
    "fiscal_year = {i for i in range(first_fiscal_year,last_fiscal_year+1)}\n",
    "fiscal_year_and_date =  []\n",
    "income_statement={\n",
    "    ''\n",
    "\n",
    "\n",
    "}\n"
   ]
  },
  {
   "cell_type": "code",
   "execution_count": 5,
   "metadata": {},
   "outputs": [
    {
     "data": {
      "text/plain": [
       "{2016, 2017, 2018}"
      ]
     },
     "execution_count": 5,
     "metadata": {},
     "output_type": "execute_result"
    }
   ],
   "source": [
    "fiscal_year"
   ]
  },
  {
   "cell_type": "code",
   "execution_count": 6,
   "metadata": {},
   "outputs": [],
   "source": [
    "income_statement_schema = Schema([{\n",
    "    'revenue': And(float),\n",
    "    'cost_of_sales': And(float),\n",
    "    'gross_profit': And(float),\n",
    "    'research_development':And(float),\n",
    "    'sga':And(float),\n",
    "    'operating_profit(ebit)': And(float),\n",
    "    'interest_expense':And(float),\n",
    "    'other_expense':And(float),\n",
    "    'pretax_profit':And(float),\n",
    "    'other_expenses':And(float),\n",
    "    'net_income':And(float)\n",
    "}])"
   ]
  },
  {
   "cell_type": "markdown",
   "metadata": {},
   "source": [
    "## Income Statement"
   ]
  },
  {
   "cell_type": "code",
   "execution_count": 7,
   "metadata": {},
   "outputs": [],
   "source": [
    "income_statement_2016={}\n",
    "income_statement_2017={}\n",
    "income_statement_2018={}\n",
    "\n",
    "def calculate_gross(income_statement):\n",
    "    return income_statement['revenue']-income_statement['cost_of_sales']\n",
    "\n",
    "def calculate_operating_profit_ebit(income_statement):\n",
    "    return income_statement['gross_profit']-income_statement['research_development']-income_statement['sga']\n",
    "\n",
    "def calculate_pretax_profit(income_statement):\n",
    "    return income_statement['operating_profit_ebit']-income_statement['interest_income'] - income_statement['interest_expense']-income_statement['other_expense']\n",
    "    \n",
    "def calculate_net_income(income_statement):\n",
    "    return income_statement['pretax_profit']-income_statement['taxes']\n",
    "    \n",
    "def calculate_ebitda(income_statement):\n",
    "    return income_statement['depreciation_amortization']+income_statement['operating_profit_ebit']\n",
    "\n",
    "def calculate_ebitda_adjusted(income_statement):\n",
    "    return income_statement['ebitda']+income_statement['stock_based_compensation']\n",
    "\n",
    "# 2016\n",
    "income_statement_2016['revenue']= 215639.00\n",
    "income_statement_2016['cost_of_sales'] = 131376.00\n",
    "income_statement_2016['gross_profit']= calculate_gross(income_statement_2016)\n",
    "income_statement_2016['research_development']= 10045.00\n",
    "income_statement_2016['sga']= 14194.00\n",
    "income_statement_2016['operating_profit_ebit']= calculate_operating_profit_ebit(income_statement_2016)\n",
    "income_statement_2016['interest_income']=  -3999.00\n",
    "income_statement_2016['interest_expense']=  1456.00\n",
    "income_statement_2016['other_expense']= 1195.00\n",
    "income_statement_2016['pretax_profit']= calculate_pretax_profit(income_statement_2016)\n",
    "income_statement_2016['taxes']= 15685.00\n",
    "income_statement_2016['net_income']=calculate_net_income(income_statement_2016)\n",
    "income_statement_2016['depreciation_amortization']= 10505.00             #that data came from cash flow statement \n",
    "income_statement_2016['ebitda']= calculate_ebitda(income_statement_2016)\n",
    "income_statement_2016['stock_based_compensation']=  4210.00             #that data came from cash flow statement\n",
    "income_statement_2016['adjusted_ebitda']= calculate_ebitda_adjusted(income_statement_2016)\n",
    "\n",
    "# 2017\n",
    "income_statement_2017['revenue']= 229234.00\n",
    "income_statement_2017['cost_of_sales'] = 141048.00\n",
    "income_statement_2017['gross_profit']= calculate_gross(income_statement_2017)\n",
    "income_statement_2017['research_development']= 11581.00\n",
    "income_statement_2017['sga']= 15261.00\n",
    "income_statement_2017['operating_profit_ebit']= calculate_operating_profit_ebit(income_statement_2017)\n",
    "income_statement_2017['interest_income']= -5201.00\n",
    "income_statement_2017['interest_expense']= 2323.00\n",
    "income_statement_2017['other_expense']= 133.00\n",
    "income_statement_2017['pretax_profit']= calculate_pretax_profit(income_statement_2017)\n",
    "income_statement_2017['taxes']= 15738.00\n",
    "income_statement_2017['net_income']=calculate_net_income(income_statement_2017)\n",
    "income_statement_2017['depreciation_amortization']= 10157.00            #that data came from cash flow statement \n",
    "income_statement_2017['ebitda']= calculate_ebitda(income_statement_2017)\n",
    "income_statement_2017['stock_based_compensation']=  4840.00           #that data came from cash flow statement\n",
    "income_statement_2017['adjusted_ebitda']= calculate_ebitda_adjusted(income_statement_2017)\n",
    "\n",
    "# 2018\n",
    "income_statement_2018['revenue']= 265595.00\n",
    "income_statement_2018['cost_of_sales'] = 163756.00\n",
    "income_statement_2018['gross_profit']= calculate_gross(income_statement_2018)\n",
    "income_statement_2018['research_development']= 14236.00\n",
    "income_statement_2018['sga']=16705.00\n",
    "income_statement_2018['operating_profit_ebit']= calculate_operating_profit_ebit(income_statement_2018)\n",
    "income_statement_2018['interest_income'] = -5686\n",
    "income_statement_2018['interest_expense']= 3240\n",
    "income_statement_2018['other_expense']= 441\n",
    "income_statement_2018['pretax_profit']= calculate_pretax_profit(income_statement_2018)\n",
    "income_statement_2018['taxes']= 13372.00\n",
    "income_statement_2018['net_income']=calculate_net_income(income_statement_2018)\n",
    "income_statement_2018['depreciation_amortization']= 10903      #that data came from cash flow statement \n",
    "income_statement_2018['ebitda']= calculate_ebitda(income_statement_2018)\n",
    "income_statement_2018['stock_based_compensation']= 5340             #that data came from cash flow statement\n",
    "income_statement_2018['adjusted_ebitda']= calculate_ebitda_adjusted(income_statement_2018)"
   ]
  },
  {
   "cell_type": "code",
   "execution_count": 8,
   "metadata": {},
   "outputs": [],
   "source": [
    "income_statement = {2016:income_statement_2016,2017:income_statement_2017,2018:income_statement_2018}"
   ]
  },
  {
   "cell_type": "code",
   "execution_count": 9,
   "metadata": {},
   "outputs": [],
   "source": [
    "income_statement = pd.DataFrame.from_dict(income_statement, orient='columns')\n"
   ]
  },
  {
   "cell_type": "code",
   "execution_count": 10,
   "metadata": {},
   "outputs": [
    {
     "data": {
      "text/html": [
       "<div>\n",
       "<style scoped>\n",
       "    .dataframe tbody tr th:only-of-type {\n",
       "        vertical-align: middle;\n",
       "    }\n",
       "\n",
       "    .dataframe tbody tr th {\n",
       "        vertical-align: top;\n",
       "    }\n",
       "\n",
       "    .dataframe thead th {\n",
       "        text-align: right;\n",
       "    }\n",
       "</style>\n",
       "<table border=\"1\" class=\"dataframe\">\n",
       "  <thead>\n",
       "    <tr style=\"text-align: right;\">\n",
       "      <th></th>\n",
       "      <th>2016</th>\n",
       "      <th>2017</th>\n",
       "      <th>2018</th>\n",
       "    </tr>\n",
       "  </thead>\n",
       "  <tbody>\n",
       "    <tr>\n",
       "      <th>revenue</th>\n",
       "      <td>215639.0</td>\n",
       "      <td>229234.0</td>\n",
       "      <td>265595.0</td>\n",
       "    </tr>\n",
       "    <tr>\n",
       "      <th>cost_of_sales</th>\n",
       "      <td>131376.0</td>\n",
       "      <td>141048.0</td>\n",
       "      <td>163756.0</td>\n",
       "    </tr>\n",
       "    <tr>\n",
       "      <th>gross_profit</th>\n",
       "      <td>84263.0</td>\n",
       "      <td>88186.0</td>\n",
       "      <td>101839.0</td>\n",
       "    </tr>\n",
       "    <tr>\n",
       "      <th>research_development</th>\n",
       "      <td>10045.0</td>\n",
       "      <td>11581.0</td>\n",
       "      <td>14236.0</td>\n",
       "    </tr>\n",
       "    <tr>\n",
       "      <th>sga</th>\n",
       "      <td>14194.0</td>\n",
       "      <td>15261.0</td>\n",
       "      <td>16705.0</td>\n",
       "    </tr>\n",
       "    <tr>\n",
       "      <th>operating_profit_ebit</th>\n",
       "      <td>60024.0</td>\n",
       "      <td>61344.0</td>\n",
       "      <td>70898.0</td>\n",
       "    </tr>\n",
       "    <tr>\n",
       "      <th>interest_income</th>\n",
       "      <td>-3999.0</td>\n",
       "      <td>-5201.0</td>\n",
       "      <td>-5686.0</td>\n",
       "    </tr>\n",
       "    <tr>\n",
       "      <th>interest_expense</th>\n",
       "      <td>1456.0</td>\n",
       "      <td>2323.0</td>\n",
       "      <td>3240.0</td>\n",
       "    </tr>\n",
       "    <tr>\n",
       "      <th>other_expense</th>\n",
       "      <td>1195.0</td>\n",
       "      <td>133.0</td>\n",
       "      <td>441.0</td>\n",
       "    </tr>\n",
       "    <tr>\n",
       "      <th>pretax_profit</th>\n",
       "      <td>61372.0</td>\n",
       "      <td>64089.0</td>\n",
       "      <td>72903.0</td>\n",
       "    </tr>\n",
       "    <tr>\n",
       "      <th>taxes</th>\n",
       "      <td>15685.0</td>\n",
       "      <td>15738.0</td>\n",
       "      <td>13372.0</td>\n",
       "    </tr>\n",
       "    <tr>\n",
       "      <th>net_income</th>\n",
       "      <td>45687.0</td>\n",
       "      <td>48351.0</td>\n",
       "      <td>59531.0</td>\n",
       "    </tr>\n",
       "    <tr>\n",
       "      <th>depreciation_amortization</th>\n",
       "      <td>10505.0</td>\n",
       "      <td>10157.0</td>\n",
       "      <td>10903.0</td>\n",
       "    </tr>\n",
       "    <tr>\n",
       "      <th>ebitda</th>\n",
       "      <td>70529.0</td>\n",
       "      <td>71501.0</td>\n",
       "      <td>81801.0</td>\n",
       "    </tr>\n",
       "    <tr>\n",
       "      <th>stock_based_compensation</th>\n",
       "      <td>4210.0</td>\n",
       "      <td>4840.0</td>\n",
       "      <td>5340.0</td>\n",
       "    </tr>\n",
       "    <tr>\n",
       "      <th>adjusted_ebitda</th>\n",
       "      <td>74739.0</td>\n",
       "      <td>76341.0</td>\n",
       "      <td>87141.0</td>\n",
       "    </tr>\n",
       "  </tbody>\n",
       "</table>\n",
       "</div>"
      ],
      "text/plain": [
       "                               2016      2017      2018\n",
       "revenue                    215639.0  229234.0  265595.0\n",
       "cost_of_sales              131376.0  141048.0  163756.0\n",
       "gross_profit                84263.0   88186.0  101839.0\n",
       "research_development        10045.0   11581.0   14236.0\n",
       "sga                         14194.0   15261.0   16705.0\n",
       "operating_profit_ebit       60024.0   61344.0   70898.0\n",
       "interest_income             -3999.0   -5201.0   -5686.0\n",
       "interest_expense             1456.0    2323.0    3240.0\n",
       "other_expense                1195.0     133.0     441.0\n",
       "pretax_profit               61372.0   64089.0   72903.0\n",
       "taxes                       15685.0   15738.0   13372.0\n",
       "net_income                  45687.0   48351.0   59531.0\n",
       "depreciation_amortization   10505.0   10157.0   10903.0\n",
       "ebitda                      70529.0   71501.0   81801.0\n",
       "stock_based_compensation     4210.0    4840.0    5340.0\n",
       "adjusted_ebitda             74739.0   76341.0   87141.0"
      ]
     },
     "execution_count": 10,
     "metadata": {},
     "output_type": "execute_result"
    }
   ],
   "source": [
    "income_statement"
   ]
  },
  {
   "cell_type": "markdown",
   "metadata": {},
   "source": [
    "## Growth rates & margins"
   ]
  },
  {
   "cell_type": "code",
   "execution_count": 11,
   "metadata": {},
   "outputs": [],
   "source": [
    "revenue_2016 = income_statement[2016]['revenue']\n",
    "revenue_2017 = income_statement[2017]['revenue']\n",
    "revenue_2018 = income_statement[2018]['revenue']\n",
    "\n",
    "growth_rate_margins = {\n",
    "                2016:{'revenue_growth': '-'},\n",
    "                2017:{'revenue_growth':round((revenue_2017/revenue_2016-1)*100,2)},\n",
    "                2018:{'revenue_growth':round((revenue_2018/revenue_2017-1)*100,2)}}\n",
    "\n",
    "\n",
    "\n",
    "\n",
    "for year in income_statement:\n",
    "\n",
    "    #calculate gross profit margin per year\n",
    "    growth_rate = round(income_statement[year]['gross_profit']/income_statement[year]['revenue']*100,2)\n",
    "\n",
    "    #calculate R&D % of sales in per year\n",
    "    research_margin = round(income_statement[year]['research_development']/income_statement[year]['revenue']*100,2)\n",
    "\n",
    "    #calculate SGA % of sales in per year\n",
    "    sga_margin = round(income_statement[year]['sga']/income_statement[year]['revenue']*100,2)\n",
    "\n",
    "    #calculate TAX rate\n",
    "    taxes_rate = round(income_statement[year]['taxes']/income_statement[year]['revenue']*100,2)\n",
    "\n",
    "    growth_rate_margins[year]['gross_profit_margin']=growth_rate\n",
    "    growth_rate_margins[year]['research_development_%_sales']=research_margin\n",
    "    growth_rate_margins[year]['sga_%_of_sales']=research_margin\n",
    "    growth_rate_margins[year]['taxes_rate']= taxes_rate\n",
    "    \n"
   ]
  },
  {
   "cell_type": "code",
   "execution_count": 12,
   "metadata": {},
   "outputs": [],
   "source": [
    "growth_rate_margins = pd.DataFrame.from_dict(growth_rate_margins, orient='columns')\n"
   ]
  },
  {
   "cell_type": "code",
   "execution_count": 13,
   "metadata": {},
   "outputs": [
    {
     "data": {
      "text/html": [
       "<div>\n",
       "<style scoped>\n",
       "    .dataframe tbody tr th:only-of-type {\n",
       "        vertical-align: middle;\n",
       "    }\n",
       "\n",
       "    .dataframe tbody tr th {\n",
       "        vertical-align: top;\n",
       "    }\n",
       "\n",
       "    .dataframe thead th {\n",
       "        text-align: right;\n",
       "    }\n",
       "</style>\n",
       "<table border=\"1\" class=\"dataframe\">\n",
       "  <thead>\n",
       "    <tr style=\"text-align: right;\">\n",
       "      <th></th>\n",
       "      <th>2016</th>\n",
       "      <th>2017</th>\n",
       "      <th>2018</th>\n",
       "    </tr>\n",
       "  </thead>\n",
       "  <tbody>\n",
       "    <tr>\n",
       "      <th>revenue_growth</th>\n",
       "      <td>-</td>\n",
       "      <td>6.30</td>\n",
       "      <td>15.86</td>\n",
       "    </tr>\n",
       "    <tr>\n",
       "      <th>gross_profit_margin</th>\n",
       "      <td>39.08</td>\n",
       "      <td>38.47</td>\n",
       "      <td>38.34</td>\n",
       "    </tr>\n",
       "    <tr>\n",
       "      <th>research_development_%_sales</th>\n",
       "      <td>4.66</td>\n",
       "      <td>5.05</td>\n",
       "      <td>5.36</td>\n",
       "    </tr>\n",
       "    <tr>\n",
       "      <th>sga_%_of_sales</th>\n",
       "      <td>4.66</td>\n",
       "      <td>5.05</td>\n",
       "      <td>5.36</td>\n",
       "    </tr>\n",
       "    <tr>\n",
       "      <th>taxes_rate</th>\n",
       "      <td>7.27</td>\n",
       "      <td>6.87</td>\n",
       "      <td>5.03</td>\n",
       "    </tr>\n",
       "  </tbody>\n",
       "</table>\n",
       "</div>"
      ],
      "text/plain": [
       "                               2016   2017   2018\n",
       "revenue_growth                    -   6.30  15.86\n",
       "gross_profit_margin           39.08  38.47  38.34\n",
       "research_development_%_sales   4.66   5.05   5.36\n",
       "sga_%_of_sales                 4.66   5.05   5.36\n",
       "taxes_rate                     7.27   6.87   5.03"
      ]
     },
     "execution_count": 13,
     "metadata": {},
     "output_type": "execute_result"
    }
   ],
   "source": [
    "growth_rate_margins"
   ]
  },
  {
   "cell_type": "markdown",
   "metadata": {},
   "source": [
    "## Balance Sheet"
   ]
  },
  {
   "cell_type": "code",
   "execution_count": 14,
   "metadata": {},
   "outputs": [],
   "source": [
    "balance_sheet = {2017:{}, 2018:{}}\n",
    "\n",
    "def total_current_asset(balance_sheet):\n",
    "   list_of_assets_values = []\n",
    "   for key in balance_sheet.keys():\n",
    "      if key == 'other_non_current_assets':\n",
    "        list_of_assets_values.append(balance_sheet[key])\n",
    "        break\n",
    "      else:\n",
    "        list_of_assets_values.append(balance_sheet[key])\n",
    "\n",
    "   return sum(list_of_assets_values)\n",
    "\n"
   ]
  },
  {
   "cell_type": "code",
   "execution_count": 15,
   "metadata": {},
   "outputs": [],
   "source": [
    "# current asset 2017\n",
    "balance_sheet_2017 =  {\n",
    "    'cash_equivalents': 20289.00,\n",
    "    'accounts_receivable(net)':17874.00,\n",
    "    'inventories':4855.00,\n",
    "    'other_current_assets':13936.00\n",
    "}\n",
    "marketable_securities = 53892.00\n",
    "vendor_non_trade_receivables = 17799.00\n",
    "balance_sheet_2017['other_current_assets'] += marketable_securities + vendor_non_trade_receivables \n",
    "\n",
    "# non current asset 2017\n",
    "balance_sheet_2017['property_plant_equipment_net'] = 33783.00\n",
    "marketable_securities_non_current = 194714.00\n",
    "other_non_current_assets = 18177.00\n",
    "balance_sheet_2017['other_non_current_assets'] = marketable_securities_non_current + other_non_current_assets\n",
    "\n",
    "balance_sheet_2017['total_assets'] = total_current_asset(balance_sheet_2017)\n",
    "\n",
    "# liabilities 2017\n",
    "balance_sheet_2017['accounts_payable']=44242.00\n",
    "balance_sheet_2017['other_current_liabilities']=30551.00\n",
    "balance_sheet_2017['deferred_revenue(current_and_non)']=7548.00+2836.00\n",
    "balance_sheet_2017['commercial_paper_revolver']=11977.00\n",
    "balance_sheet_2017['long_term_debt_includes_current_portion']= 6496.00+97207.00\n",
    "balance_sheet_2017['other_non_current_liabilities']=40415.00\n",
    "\n"
   ]
  },
  {
   "cell_type": "code",
   "execution_count": 16,
   "metadata": {},
   "outputs": [],
   "source": [
    "# current asset 2018\n",
    "balance_sheet_2018 =  {\n",
    "    'cash_equivalents': 25913.00,\n",
    "    'accounts_receivable(net)':23186.00,\n",
    "    'inventories':3956.00,\n",
    "    'other_current_assets':12087.00\n",
    "}\n",
    "marketable_securities = 40388.00\n",
    "vendor_non_trade_receivables = 25809.00\n",
    "balance_sheet_2018['other_current_assets'] += marketable_securities + vendor_non_trade_receivables \n",
    "\n",
    "# non current asset 2018\n",
    "balance_sheet_2018['property_plant_equipment_net'] = 41304.00\n",
    "marketable_securities_non_current = 170799.00\n",
    "other_non_current_assets = 22283.00\n",
    "balance_sheet_2018['other_non_current_assets'] = marketable_securities_non_current + other_non_current_assets\n",
    "balance_sheet_2018['total_assets'] = total_current_asset(balance_sheet_2018)\n",
    "\n",
    "# liabilities 2018\n",
    "balance_sheet_2018['accounts_payable']=55888.00\n",
    "balance_sheet_2018['other_current_liabilities']=32687.00\n",
    "balance_sheet_2018['deferred_revenue(current_and_non)']=7543.00+2797.00\n",
    "balance_sheet_2018['commercial_paper_revolver']=11964.00\n",
    "balance_sheet_2018['long_term_debt_includes_current_portion']= 8784.00+93735.00\n",
    "balance_sheet_2018['other_non_current_liabilities']=45180.00\n",
    "\n",
    "\n"
   ]
  },
  {
   "cell_type": "code",
   "execution_count": 17,
   "metadata": {},
   "outputs": [],
   "source": [
    "# liabilities 2018\n"
   ]
  },
  {
   "cell_type": "code",
   "execution_count": 18,
   "metadata": {},
   "outputs": [],
   "source": [
    "balance_sheet[2017]= balance_sheet_2017\n",
    "balance_sheet[2018]= balance_sheet_2018\n",
    "\n",
    "balance_sheet = pd.DataFrame.from_dict(balance_sheet, orient='columns')"
   ]
  },
  {
   "cell_type": "code",
   "execution_count": 19,
   "metadata": {},
   "outputs": [],
   "source": [
    "balance_sheet_assets = balance_sheet.loc[['cash_equivalents','accounts_receivable(net)','inventories','other_current_assets','property_plant_equipment_net','other_non_current_assets','total_assets']]\n",
    "\n"
   ]
  },
  {
   "cell_type": "markdown",
   "metadata": {},
   "source": [
    "* Assets"
   ]
  },
  {
   "cell_type": "code",
   "execution_count": 20,
   "metadata": {},
   "outputs": [
    {
     "data": {
      "text/html": [
       "<div>\n",
       "<style scoped>\n",
       "    .dataframe tbody tr th:only-of-type {\n",
       "        vertical-align: middle;\n",
       "    }\n",
       "\n",
       "    .dataframe tbody tr th {\n",
       "        vertical-align: top;\n",
       "    }\n",
       "\n",
       "    .dataframe thead th {\n",
       "        text-align: right;\n",
       "    }\n",
       "</style>\n",
       "<table border=\"1\" class=\"dataframe\">\n",
       "  <thead>\n",
       "    <tr style=\"text-align: right;\">\n",
       "      <th></th>\n",
       "      <th>2017</th>\n",
       "      <th>2018</th>\n",
       "    </tr>\n",
       "  </thead>\n",
       "  <tbody>\n",
       "    <tr>\n",
       "      <th>cash_equivalents</th>\n",
       "      <td>20289.0</td>\n",
       "      <td>25913.0</td>\n",
       "    </tr>\n",
       "    <tr>\n",
       "      <th>accounts_receivable(net)</th>\n",
       "      <td>17874.0</td>\n",
       "      <td>23186.0</td>\n",
       "    </tr>\n",
       "    <tr>\n",
       "      <th>inventories</th>\n",
       "      <td>4855.0</td>\n",
       "      <td>3956.0</td>\n",
       "    </tr>\n",
       "    <tr>\n",
       "      <th>other_current_assets</th>\n",
       "      <td>85627.0</td>\n",
       "      <td>78284.0</td>\n",
       "    </tr>\n",
       "    <tr>\n",
       "      <th>property_plant_equipment_net</th>\n",
       "      <td>33783.0</td>\n",
       "      <td>41304.0</td>\n",
       "    </tr>\n",
       "    <tr>\n",
       "      <th>other_non_current_assets</th>\n",
       "      <td>212891.0</td>\n",
       "      <td>193082.0</td>\n",
       "    </tr>\n",
       "    <tr>\n",
       "      <th>total_assets</th>\n",
       "      <td>375319.0</td>\n",
       "      <td>365725.0</td>\n",
       "    </tr>\n",
       "  </tbody>\n",
       "</table>\n",
       "</div>"
      ],
      "text/plain": [
       "                                  2017      2018\n",
       "cash_equivalents               20289.0   25913.0\n",
       "accounts_receivable(net)       17874.0   23186.0\n",
       "inventories                     4855.0    3956.0\n",
       "other_current_assets           85627.0   78284.0\n",
       "property_plant_equipment_net   33783.0   41304.0\n",
       "other_non_current_assets      212891.0  193082.0\n",
       "total_assets                  375319.0  365725.0"
      ]
     },
     "execution_count": 20,
     "metadata": {},
     "output_type": "execute_result"
    }
   ],
   "source": [
    "balance_sheet_assets"
   ]
  },
  {
   "cell_type": "markdown",
   "metadata": {},
   "source": [
    "* Liabilities"
   ]
  },
  {
   "cell_type": "code",
   "execution_count": 22,
   "metadata": {},
   "outputs": [],
   "source": [
    "balance_sheet_liabilities = balance_sheet.loc[['accounts_payable','other_current_liabilities','deferred_revenue(current_and_non)','commercial_paper_revolver','long_term_debt_includes_current_portion','other_non_current_liabilities']]"
   ]
  },
  {
   "cell_type": "code",
   "execution_count": 23,
   "metadata": {},
   "outputs": [],
   "source": [
    "balance_sheet_liabilities[2017]['total_liabilities'] = 0\n",
    "balance_sheet_liabilities[2018]['total_liabilities'] = 0\n",
    "for year in balance_sheet_liabilities:\n",
    "    balance_sheet_liabilities[year]['total_liabilities']=balance_sheet_liabilities[year].sum()"
   ]
  },
  {
   "cell_type": "code",
   "execution_count": 27,
   "metadata": {},
   "outputs": [],
   "source": [
    "total_liabilitities = pd.DataFrame.from_dict({'total_liabilities':balance_sheet_liabilities.sum()}, orient='index')"
   ]
  },
  {
   "cell_type": "code",
   "execution_count": 28,
   "metadata": {},
   "outputs": [
    {
     "data": {
      "text/html": [
       "<div>\n",
       "<style scoped>\n",
       "    .dataframe tbody tr th:only-of-type {\n",
       "        vertical-align: middle;\n",
       "    }\n",
       "\n",
       "    .dataframe tbody tr th {\n",
       "        vertical-align: top;\n",
       "    }\n",
       "\n",
       "    .dataframe thead th {\n",
       "        text-align: right;\n",
       "    }\n",
       "</style>\n",
       "<table border=\"1\" class=\"dataframe\">\n",
       "  <thead>\n",
       "    <tr style=\"text-align: right;\">\n",
       "      <th></th>\n",
       "      <th>2017</th>\n",
       "      <th>2018</th>\n",
       "    </tr>\n",
       "  </thead>\n",
       "  <tbody>\n",
       "    <tr>\n",
       "      <th>accounts_payable</th>\n",
       "      <td>44242.0</td>\n",
       "      <td>55888.0</td>\n",
       "    </tr>\n",
       "    <tr>\n",
       "      <th>other_current_liabilities</th>\n",
       "      <td>30551.0</td>\n",
       "      <td>32687.0</td>\n",
       "    </tr>\n",
       "    <tr>\n",
       "      <th>deferred_revenue(current_and_non)</th>\n",
       "      <td>10384.0</td>\n",
       "      <td>10340.0</td>\n",
       "    </tr>\n",
       "    <tr>\n",
       "      <th>commercial_paper_revolver</th>\n",
       "      <td>11977.0</td>\n",
       "      <td>11964.0</td>\n",
       "    </tr>\n",
       "    <tr>\n",
       "      <th>long_term_debt_includes_current_portion</th>\n",
       "      <td>103703.0</td>\n",
       "      <td>102519.0</td>\n",
       "    </tr>\n",
       "    <tr>\n",
       "      <th>other_non_current_liabilities</th>\n",
       "      <td>40415.0</td>\n",
       "      <td>45180.0</td>\n",
       "    </tr>\n",
       "    <tr>\n",
       "      <th>total_liabilities</th>\n",
       "      <td>241272.0</td>\n",
       "      <td>258578.0</td>\n",
       "    </tr>\n",
       "  </tbody>\n",
       "</table>\n",
       "</div>"
      ],
      "text/plain": [
       "                                             2017      2018\n",
       "accounts_payable                          44242.0   55888.0\n",
       "other_current_liabilities                 30551.0   32687.0\n",
       "deferred_revenue(current_and_non)         10384.0   10340.0\n",
       "commercial_paper_revolver                 11977.0   11964.0\n",
       "long_term_debt_includes_current_portion  103703.0  102519.0\n",
       "other_non_current_liabilities             40415.0   45180.0\n",
       "total_liabilities                        241272.0  258578.0"
      ]
     },
     "execution_count": 28,
     "metadata": {},
     "output_type": "execute_result"
    }
   ],
   "source": [
    "pd.concat([balance_sheet_liabilities,total_liabilitities])"
   ]
  }
 ],
 "metadata": {
  "kernelspec": {
   "display_name": "base",
   "language": "python",
   "name": "python3"
  },
  "language_info": {
   "codemirror_mode": {
    "name": "ipython",
    "version": 3
   },
   "file_extension": ".py",
   "mimetype": "text/x-python",
   "name": "python",
   "nbconvert_exporter": "python",
   "pygments_lexer": "ipython3",
   "version": "3.11.5"
  }
 },
 "nbformat": 4,
 "nbformat_minor": 2
}
